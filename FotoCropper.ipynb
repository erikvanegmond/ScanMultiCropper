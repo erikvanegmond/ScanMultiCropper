{
 "cells": [
  {
   "cell_type": "markdown",
   "metadata": {},
   "source": [
    "# How to use this Notebook\n",
    "1. Read the insturctions\n",
    "2. Change the settings\n",
    "3. Run the code\n",
    "\n",
    "You might want to run cells individually when the code has already run once and you change some configuration."
   ]
  },
  {
   "cell_type": "markdown",
   "metadata": {},
   "source": [
    "## Scan instructions\n",
    "To properly scan photos change the scanner settings such that you scan the entire scanner plate.\n",
    "\n",
    "When placing the photos in the scanner push them into the corners of the scanner plate.\n",
    "\n",
    "The program does not yet detect the angle of the photo and this ensures that they are square."
   ]
  },
  {
   "cell_type": "code",
   "execution_count": null,
   "metadata": {},
   "outputs": [],
   "source": [
    "import matplotlib.pyplot as plt\n",
    "from ScanMultiCropper import ScanMultiCropper, DatedScanMultiCropper, TaggedScanMultiCropper, EdgeBasedPhotoFinder, AdaptiveGaussianPhotoFinder\n",
    "%matplotlib inline"
   ]
  },
  {
   "cell_type": "markdown",
   "metadata": {},
   "source": [
    "## Configuration\n",
    "1. Set the path to the folder where the scans are saved.\n",
    "2. Set the path to the folder where you want your photos to be saved."
   ]
  },
  {
   "cell_type": "code",
   "execution_count": null,
   "metadata": {},
   "outputs": [],
   "source": [
    "scan_dir = \"C:\\Path\\To\\Scans\"\n",
    "output_dir = \"C:\\Path\\To\\Output\""
   ]
  },
  {
   "cell_type": "markdown",
   "metadata": {},
   "source": [
    "### Additional configuration\n",
    "In the cell below add additional parent classes to the `MyPhotoCropper` class by adding them between the brackets, separated by commas:\n",
    "```python\n",
    "class MyPhotoCropper(AdaptiveGaussianPhotoFinder, DatedScanMultiCropper, TaggedScanMultiCropper):\n",
    "    pass\n",
    "```\n",
    "\n",
    "#### Dates\n",
    "When you want to have the creation date set to the right date change  add `DatedScanMultiCropper` to your class.\n",
    "Add at least a year argument to the argument list like so: \n",
    "```python\n",
    "MyPhotoCropper(scan_dir=scan_dir, output_dir=output_dir, year=1990)\n",
    "```\n",
    "Additional precision can be given with the `month` and `day` arguments.\n",
    "\n",
    "### Tags\n",
    "When you want to automatically tag images with one or more tags of your choosing add `TaggedScanMultiCropper` to your class.\n",
    "Add a tags argument to the argument list like so:\n",
    "```python\n",
    "MyPhotoCropper(scan_dir=scan_dir, output_dir=output_dir, tags=\"Tag1;Tag2\")\n",
    "```\n",
    "Tags are separated with a semicolon ';'.\n",
    "\n",
    "### PhotoFinders\n",
    "- Default (`ScanMultiCropper`)\n",
    "  Finds photos based on darkness of the grayscale image, anything above a certain global threshold is potentially a photo.\n",
    "- Adaptive Gaussian (`AdaptiveGaussianPhotoFinder`)  \n",
    "  Finds photos based on the a local threshold.\n",
    "- Edge based photo finder (`dgeBasedPhotoFinder`)  \n",
    "  Find photos based on where there are edges in the scan\n",
    "  \n",
    "Pick one of the photo finders. More will work, but it will only use one.\n",
    "  \n",
    "\n",
    "\n"
   ]
  },
  {
   "cell_type": "code",
   "execution_count": null,
   "metadata": {},
   "outputs": [],
   "source": [
    "class MyPhotoCropper(AdaptiveGaussianPhotoFinder):\n",
    "    pass\n",
    "\n",
    "cropper = MyPhotoCropper(scan_dir, output_dir)"
   ]
  },
  {
   "cell_type": "markdown",
   "metadata": {},
   "source": [
    "## Run\n",
    "\n",
    "Set `save` to `True` if you want to photos to be saved, to `False` if you do not want the photos to be saved.\n",
    "\n",
    "Set `show` to `True` if you want to see how the photos are cropped, with `False` no visual output will be generated.\n",
    "\n",
    "If you have set the configuration as you want you can now run the program. \n",
    "You can always change the settings and run again, it will overwrite previous crops (when they have the same name)\n",
    "\n",
    "1. Run all cells by going to the menu Run > Run All Cells\n",
    "2. To run cells individually:\n",
    "    1. Highlight the cell you want to execute\n",
    "    2. Press the play button above\n"
   ]
  },
  {
   "cell_type": "code",
   "execution_count": null,
   "metadata": {},
   "outputs": [],
   "source": [
    "cropper.run(save=True, show=True)"
   ]
  },
  {
   "cell_type": "markdown",
   "metadata": {},
   "source": [
    "## Tips\n",
    "\n",
    "### Different years\n",
    "If not all photos in your directory need the same settings, seperate them in different folders.\n",
    "```python\n",
    "scan_dir = \"C:\\Path\\To\\Scans\\1990\"\n",
    "output_dir = \"C:\\Path\\To\\Output\"\n",
    "\n",
    "cropper = MyPhotoCropper(scan_dir, output_dir, year=1990)\n",
    "cropper.run(save=True, show=True)\n",
    "\n",
    "scan_dir = \"C:\\Path\\To\\Scans\\1991\"\n",
    "cropper = MyPhotoCropper(scan_dir, output_dir, year=1991)\n",
    "cropper.run(save=True, show=True)\n",
    "```\n",
    "\n",
    "### Some photos are not cropped right\n",
    "The `AdaptiveGaussianPhotoFinder` provides a setting to tweak the sensitivity. \n",
    "The default value is 3, increasing this value will make the detector more sensitive so the detected photo will be larger.\n",
    "Also add a \n",
    "\n",
    "```python\n",
    "smc = MyPhotoCropper(scan_dir=scan_dir, output_dir=output_dir, edge_sensitivity=5, photo=\"photo1.jpg photo2.jpg\".split())\n",
    "```\n"
   ]
  },
  {
   "cell_type": "code",
   "execution_count": null,
   "metadata": {},
   "outputs": [],
   "source": []
  }
 ],
 "metadata": {
  "kernelspec": {
   "display_name": "Python 3",
   "language": "python",
   "name": "python3"
  },
  "language_info": {
   "codemirror_mode": {
    "name": "ipython",
    "version": 3
   },
   "file_extension": ".py",
   "mimetype": "text/x-python",
   "name": "python",
   "nbconvert_exporter": "python",
   "pygments_lexer": "ipython3",
   "version": "3.7.4"
  }
 },
 "nbformat": 4,
 "nbformat_minor": 4
}
