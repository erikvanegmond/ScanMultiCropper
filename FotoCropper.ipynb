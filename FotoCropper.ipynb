{
 "cells": [
  {
   "cell_type": "markdown",
   "metadata": {},
   "source": [
    "# How to use this Notebook\n",
    "1. Read the insturctions\n",
    "2. Change the settings\n",
    "3. Run the code\n",
    "    1. Run all cells by going to the menu Run > Run All Cells\n",
    "    2. Run the cells individualy with the play button above"
   ]
  },
  {
   "cell_type": "markdown",
   "metadata": {},
   "source": [
    "## Scan instructions\n",
    "To properly scan photos change the scanner settings such that you scan the entire scanner plate.\n",
    "\n",
    "When placing the photos in the scanner push them into the corners of the scanner plate.\n",
    "\n",
    "The program does not yet detect the angle of the photo and this ensures that they are square."
   ]
  },
  {
   "cell_type": "code",
   "execution_count": 1,
   "metadata": {},
   "outputs": [],
   "source": [
    "import matplotlib.pyplot as plt\n",
    "from ScanMultiCropper import ScanMultiCropper\n",
    "%matplotlib inline"
   ]
  },
  {
   "cell_type": "markdown",
   "metadata": {},
   "source": [
    "## Configuration\n",
    "1. Set the path to the folder where the scans are saved.\n",
    "2. Set the path to the folder where you want your photos to be saved."
   ]
  },
  {
   "cell_type": "code",
   "execution_count": 4,
   "metadata": {},
   "outputs": [
    {
     "name": "stdout",
     "output_type": "stream",
     "text": [
      "Processing files in C:\\Path\\To\\Scans and moving cropped photos to C:\\Path\\To\\Output\n"
     ]
    }
   ],
   "source": [
    "scan_dir = \"C:\\Path\\To\\Scans\"\n",
    "output_dir = \"C:\\Path\\To\\Output\"\n",
    "smc = ScanMultiCropper(scan_dir, output_dir)"
   ]
  },
  {
   "cell_type": "markdown",
   "metadata": {},
   "source": [
    "## Processing\n",
    "Set `save` to `True` if you want to photos to be saved, to `False` if you do not want the photos to be saved.\n",
    "\n",
    "Set `show` to `True` if you want to see how the photos are cropped, with `False` no visual output will be generated."
   ]
  },
  {
   "cell_type": "code",
   "execution_count": 5,
   "metadata": {},
   "outputs": [],
   "source": [
    "smc.start(save=True, show=True)"
   ]
  }
 ],
 "metadata": {
  "kernelspec": {
   "display_name": "Python 3",
   "language": "python",
   "name": "python3"
  },
  "language_info": {
   "codemirror_mode": {
    "name": "ipython",
    "version": 3
   },
   "file_extension": ".py",
   "mimetype": "text/x-python",
   "name": "python",
   "nbconvert_exporter": "python",
   "pygments_lexer": "ipython3",
   "version": "3.7.4"
  }
 },
 "nbformat": 4,
 "nbformat_minor": 4
}
