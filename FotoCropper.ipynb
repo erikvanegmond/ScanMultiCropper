{
 "cells": [
  {
   "cell_type": "markdown",
   "metadata": {},
   "source": [
    "# How to use this Notebook\n",
    "1. Read the insturctions\n",
    "2. Change the settings\n",
    "3. Run the code either:\n",
    "    1. Run all cells by going to the menu Run > Run All Cells\n",
    "    2. To run cells individually:\n",
    "        1. Highlight the cell you want to execute\n",
    "        2. Press the play button above\n",
    "\n",
    "You might want to run cells individually when the code has already run once and you change some configuration."
   ]
  },
  {
   "cell_type": "markdown",
   "metadata": {},
   "source": [
    "## Scan instructions\n",
    "To properly scan photos change the scanner settings such that you scan the entire scanner plate.\n",
    "\n",
    "When placing the photos in the scanner push them into the corners of the scanner plate.\n",
    "\n",
    "The program does not yet detect the angle of the photo and this ensures that they are square."
   ]
  },
  {
   "cell_type": "code",
   "execution_count": null,
   "metadata": {},
   "outputs": [],
   "source": [
    "import matplotlib.pyplot as plt\n",
    "from ScanMultiCropper import ScanMultiCropper, DatedScanMultiCropper, TaggedScanMultiCropper, TaggedDatedScanMultiCropper\n",
    "%matplotlib inline"
   ]
  },
  {
   "cell_type": "markdown",
   "metadata": {},
   "source": [
    "## Configuration\n",
    "1. Set the path to the folder where the scans are saved.\n",
    "2. Set the path to the folder where you want your photos to be saved.\n",
    "\n",
    "### Additional configuration\n",
    "#### Dates\n",
    "When you want to have the creation date set to the right date change `ScanMultiCropper` to `DatedScanMultiCropper` in the cell below.\n",
    "Add at least a year argument to the argument list like so: \n",
    "```\n",
    "DatedScanMultiCropper(scan_dir=scan_dir, output_dir=output_dir, year=1990)\n",
    "```\n",
    "Additional precision can be given with the `month` and `day` arguments.\n",
    "### Tags\n",
    "When you want to automatically tag images with one or more tags of your choosing change `ScanMultiCropper` to `TaggedScanMultiCropper` in the cell below.\n",
    "Add a tags argument to the argument list like so:\n",
    "```\n",
    "TaggedScanMultiCropper(scan_dir=scan_dir, output_dir=output_dir, tags=\"Tag1;Tag2\")\n",
    "```\n",
    "Tags are separated with a semicolon ';'.\n",
    "\n",
    "## Processing\n",
    "Set `save` to `True` if you want to photos to be saved, to `False` if you do not want the photos to be saved.\n",
    "\n",
    "Set `show` to `True` if you want to see how the photos are cropped, with `False` no visual output will be generated.\n",
    "\n",
    "## Run\n",
    "If you have set the configuration as you want you can now run the program."
   ]
  },
  {
   "cell_type": "code",
   "execution_count": null,
   "metadata": {},
   "outputs": [],
   "source": [
    "scan_dir = \"C:\\Path\\To\\Scans\"\n",
    "output_dir = \"C:\\Path\\To\\Output\"\n",
    "smc = ScanMultiCropper(scan_dir, output_dir)\n",
    "smc.run(save=True, show=True)"
   ]
  }
 ],
 "metadata": {
  "kernelspec": {
   "display_name": "Python 3",
   "language": "python",
   "name": "python3"
  },
  "language_info": {
   "codemirror_mode": {
    "name": "ipython",
    "version": 3
   },
   "file_extension": ".py",
   "mimetype": "text/x-python",
   "name": "python",
   "nbconvert_exporter": "python",
   "pygments_lexer": "ipython3",
   "version": "3.7.4"
  }
 },
 "nbformat": 4,
 "nbformat_minor": 4
}
